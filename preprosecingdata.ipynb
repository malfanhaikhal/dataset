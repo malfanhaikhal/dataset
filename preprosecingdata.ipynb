{
  "nbformat": 4,
  "nbformat_minor": 0,
  "metadata": {
    "colab": {
      "name": "preprosecingdata.ipynb",
      "provenance": [],
      "authorship_tag": "ABX9TyPJXf0v5q36yNcDMUo1hVI4",
      "include_colab_link": true
    },
    "kernelspec": {
      "name": "python3",
      "display_name": "Python 3"
    },
    "language_info": {
      "name": "python"
    }
  },
  "cells": [
    {
      "cell_type": "markdown",
      "metadata": {
        "id": "view-in-github",
        "colab_type": "text"
      },
      "source": [
        "<a href=\"https://colab.research.google.com/github/malfanhaikhal/dataset/blob/main/preprosecingdata.ipynb\" target=\"_parent\"><img src=\"https://colab.research.google.com/assets/colab-badge.svg\" alt=\"Open In Colab\"/></a>"
      ]
    },
    {
      "cell_type": "code",
      "metadata": {
        "id": "YfSL7oRryy1y"
      },
      "source": [
        "import numpy as np\n",
        "import matplotlib.pyplot as plt \n",
        "import pandas as pd\n",
        "import chardet"
      ],
      "execution_count": 2,
      "outputs": []
    },
    {
      "cell_type": "code",
      "metadata": {
        "colab": {
          "base_uri": "https://localhost:8080/"
        },
        "id": "wAMnwxbr5JBD",
        "outputId": "75ffa560-6cd1-4be6-a788-972fcee52021"
      },
      "source": [
        "\n",
        "#importdataset \n",
        "#pemanggilan Dataset dengan nama nuclearWeaponStates.csv.csv.csv\n",
        "dataset= pd.read_csv('komponen_inflasi_jakartacsv.csv')\n",
        "X = dataset.iloc[:,:-1].values\n",
        "Y = dataset.iloc[:,-1].values\n",
        "print(X)\n",
        "print(Y)"
      ],
      "execution_count": 12,
      "outputs": [
        {
          "output_type": "stream",
          "text": [
            "[['Umum' 'Januari']\n",
            " ['Umum' 'Februari']\n",
            " ['Umum' 'Maret']\n",
            " ['Umum' 'April']\n",
            " ['Umum' 'Mei']\n",
            " ['Umum' 'Juni']\n",
            " ['Bukan Makanan' 'Januari']\n",
            " ['Bukan Makanan' 'Februari']\n",
            " ['Bukan Makanan' 'Maret']\n",
            " ['Bukan Makanan' 'April']\n",
            " ['Bukan Makanan' 'Mei']\n",
            " ['Bukan Makanan' 'Juni']\n",
            " ['Makanan jadi, Minuman, Rokok dan tembakau' 'Januari']\n",
            " ['Makanan jadi, Minuman, Rokok dan tembakau' 'Februari']\n",
            " ['Makanan jadi, Minuman, Rokok dan tembakau' 'Maret']\n",
            " ['Makanan jadi, Minuman, Rokok dan tembakau' 'April']\n",
            " ['Makanan jadi, Minuman, Rokok dan tembakau' 'Mei']\n",
            " ['Makanan jadi, Minuman, Rokok dan tembakau' 'Juni']\n",
            " ['Perumahan, Air, Listrik, Gas, dan Bahan bakar' 'Januari']\n",
            " ['Perumahan, Air, Listrik, Gas, dan Bahan bakar' 'Februari']\n",
            " ['Perumahan, Air, Listrik, Gas, dan Bahan bakar' 'Maret']\n",
            " ['Perumahan, Air, Listrik, Gas, dan Bahan bakar' 'April']\n",
            " ['Perumahan, Air, Listrik, Gas, dan Bahan bakar' 'Mei']\n",
            " ['Perumahan, Air, Listrik, Gas, dan Bahan bakar' 'Juni']\n",
            " ['Sandang' 'Januari']\n",
            " ['Sandang' 'Februari']\n",
            " ['Sandang' 'Maret']\n",
            " ['Sandang' 'April']\n",
            " ['Sandang' 'Mei']\n",
            " ['Sandang' 'Juni']\n",
            " ['Kesehatan' 'Januari']\n",
            " ['Kesehatan' 'Februari']\n",
            " ['Kesehatan' 'Maret']\n",
            " ['Kesehatan' 'April']\n",
            " ['Kesehatan' 'Mei']\n",
            " ['Kesehatan' 'Juni']\n",
            " ['Pendidikan, Rekreasi dan Olah Raga' 'Januari']\n",
            " ['Pendidikan, Rekreasi dan Olah Raga' 'Februari']\n",
            " ['Pendidikan, Rekreasi dan Olah Raga' 'Maret']\n",
            " ['Pendidikan, Rekreasi dan Olah Raga' 'April']\n",
            " ['Pendidikan, Rekreasi dan Olah Raga' 'Mei']\n",
            " ['Pendidikan, Rekreasi dan Olah Raga' 'Juni']\n",
            " ['Transportasi, Komunikasi dan Jasa Keuangan' 'Januari']\n",
            " ['Transportasi, Komunikasi dan Jasa Keuangan' 'Februari']\n",
            " ['Transportasi, Komunikasi dan Jasa Keuangan' 'Maret']\n",
            " ['Transportasi, Komunikasi dan Jasa Keuangan' 'April']\n",
            " ['Transportasi, Komunikasi dan Jasa Keuangan' 'Mei']\n",
            " ['Transportasi, Komunikasi dan Jasa Keuangan' 'Juni']]\n",
            "[ 0.48  0.17  0.18  0.13   nan  0.38  1.6  -0.62  0.1   0.35   nan  0.93\n",
            "  0.74  0.18  0.4   0.7    nan  0.15  0.11  0.2   0.1   0.06   nan  0.5\n",
            "  0.31  1.74  0.28 -0.89   nan  0.55  0.59 -0.03  0.04  0.04   nan  0.08\n",
            "  0.01  0.    0.02  0.     nan  0.03 -0.04  0.13  0.2   0.17   nan  0.03]\n"
          ],
          "name": "stdout"
        }
      ]
    },
    {
      "cell_type": "code",
      "metadata": {
        "colab": {
          "base_uri": "https://localhost:8080/"
        },
        "id": "wFDiYADNJqmD",
        "outputId": "7e071728-b6a0-41ac-9c77-6d35fd26f860"
      },
      "source": [
        "print(X)"
      ],
      "execution_count": 14,
      "outputs": [
        {
          "output_type": "stream",
          "text": [
            "[['Umum' 'Januari']\n",
            " ['Umum' 'Februari']\n",
            " ['Umum' 'Maret']\n",
            " ['Umum' 'April']\n",
            " ['Umum' 'Mei']\n",
            " ['Umum' 'Juni']\n",
            " ['Bukan Makanan' 'Januari']\n",
            " ['Bukan Makanan' 'Februari']\n",
            " ['Bukan Makanan' 'Maret']\n",
            " ['Bukan Makanan' 'April']\n",
            " ['Bukan Makanan' 'Mei']\n",
            " ['Bukan Makanan' 'Juni']\n",
            " ['Makanan jadi, Minuman, Rokok dan tembakau' 'Januari']\n",
            " ['Makanan jadi, Minuman, Rokok dan tembakau' 'Februari']\n",
            " ['Makanan jadi, Minuman, Rokok dan tembakau' 'Maret']\n",
            " ['Makanan jadi, Minuman, Rokok dan tembakau' 'April']\n",
            " ['Makanan jadi, Minuman, Rokok dan tembakau' 'Mei']\n",
            " ['Makanan jadi, Minuman, Rokok dan tembakau' 'Juni']\n",
            " ['Perumahan, Air, Listrik, Gas, dan Bahan bakar' 'Januari']\n",
            " ['Perumahan, Air, Listrik, Gas, dan Bahan bakar' 'Februari']\n",
            " ['Perumahan, Air, Listrik, Gas, dan Bahan bakar' 'Maret']\n",
            " ['Perumahan, Air, Listrik, Gas, dan Bahan bakar' 'April']\n",
            " ['Perumahan, Air, Listrik, Gas, dan Bahan bakar' 'Mei']\n",
            " ['Perumahan, Air, Listrik, Gas, dan Bahan bakar' 'Juni']\n",
            " ['Sandang' 'Januari']\n",
            " ['Sandang' 'Februari']\n",
            " ['Sandang' 'Maret']\n",
            " ['Sandang' 'April']\n",
            " ['Sandang' 'Mei']\n",
            " ['Sandang' 'Juni']\n",
            " ['Kesehatan' 'Januari']\n",
            " ['Kesehatan' 'Februari']\n",
            " ['Kesehatan' 'Maret']\n",
            " ['Kesehatan' 'April']\n",
            " ['Kesehatan' 'Mei']\n",
            " ['Kesehatan' 'Juni']\n",
            " ['Pendidikan, Rekreasi dan Olah Raga' 'Januari']\n",
            " ['Pendidikan, Rekreasi dan Olah Raga' 'Februari']\n",
            " ['Pendidikan, Rekreasi dan Olah Raga' 'Maret']\n",
            " ['Pendidikan, Rekreasi dan Olah Raga' 'April']\n",
            " ['Pendidikan, Rekreasi dan Olah Raga' 'Mei']\n",
            " ['Pendidikan, Rekreasi dan Olah Raga' 'Juni']\n",
            " ['Transportasi, Komunikasi dan Jasa Keuangan' 'Januari']\n",
            " ['Transportasi, Komunikasi dan Jasa Keuangan' 'Februari']\n",
            " ['Transportasi, Komunikasi dan Jasa Keuangan' 'Maret']\n",
            " ['Transportasi, Komunikasi dan Jasa Keuangan' 'April']\n",
            " ['Transportasi, Komunikasi dan Jasa Keuangan' 'Mei']\n",
            " ['Transportasi, Komunikasi dan Jasa Keuangan' 'Juni']]\n"
          ],
          "name": "stdout"
        }
      ]
    },
    {
      "cell_type": "code",
      "metadata": {
        "id": "lhH1WCTvK3d8"
      },
      "source": [
        "#Enconding Data kategori(Atribut)\n",
        "from sklearn.compose import ColumnTransformer\n",
        "from sklearn.preprocessing import OneHotEncoder\n",
        "ct = ColumnTransformer(transformers=[('encoder', OneHotEncoder(), [0])], remainder='passthrough')\n",
        "X = np.array(ct.fit_transform(X))\n"
      ],
      "execution_count": null,
      "outputs": []
    },
    {
      "cell_type": "code",
      "metadata": {
        "colab": {
          "base_uri": "https://localhost:8080/"
        },
        "id": "aOtpZAguOiWY",
        "outputId": "fbad1010-d549-47d2-d5a1-d2f10573562e"
      },
      "source": [
        "print(X)"
      ],
      "execution_count": 16,
      "outputs": [
        {
          "output_type": "stream",
          "text": [
            "[['Umum' 'Januari']\n",
            " ['Umum' 'Februari']\n",
            " ['Umum' 'Maret']\n",
            " ['Umum' 'April']\n",
            " ['Umum' 'Mei']\n",
            " ['Umum' 'Juni']\n",
            " ['Bukan Makanan' 'Januari']\n",
            " ['Bukan Makanan' 'Februari']\n",
            " ['Bukan Makanan' 'Maret']\n",
            " ['Bukan Makanan' 'April']\n",
            " ['Bukan Makanan' 'Mei']\n",
            " ['Bukan Makanan' 'Juni']\n",
            " ['Makanan jadi, Minuman, Rokok dan tembakau' 'Januari']\n",
            " ['Makanan jadi, Minuman, Rokok dan tembakau' 'Februari']\n",
            " ['Makanan jadi, Minuman, Rokok dan tembakau' 'Maret']\n",
            " ['Makanan jadi, Minuman, Rokok dan tembakau' 'April']\n",
            " ['Makanan jadi, Minuman, Rokok dan tembakau' 'Mei']\n",
            " ['Makanan jadi, Minuman, Rokok dan tembakau' 'Juni']\n",
            " ['Perumahan, Air, Listrik, Gas, dan Bahan bakar' 'Januari']\n",
            " ['Perumahan, Air, Listrik, Gas, dan Bahan bakar' 'Februari']\n",
            " ['Perumahan, Air, Listrik, Gas, dan Bahan bakar' 'Maret']\n",
            " ['Perumahan, Air, Listrik, Gas, dan Bahan bakar' 'April']\n",
            " ['Perumahan, Air, Listrik, Gas, dan Bahan bakar' 'Mei']\n",
            " ['Perumahan, Air, Listrik, Gas, dan Bahan bakar' 'Juni']\n",
            " ['Sandang' 'Januari']\n",
            " ['Sandang' 'Februari']\n",
            " ['Sandang' 'Maret']\n",
            " ['Sandang' 'April']\n",
            " ['Sandang' 'Mei']\n",
            " ['Sandang' 'Juni']\n",
            " ['Kesehatan' 'Januari']\n",
            " ['Kesehatan' 'Februari']\n",
            " ['Kesehatan' 'Maret']\n",
            " ['Kesehatan' 'April']\n",
            " ['Kesehatan' 'Mei']\n",
            " ['Kesehatan' 'Juni']\n",
            " ['Pendidikan, Rekreasi dan Olah Raga' 'Januari']\n",
            " ['Pendidikan, Rekreasi dan Olah Raga' 'Februari']\n",
            " ['Pendidikan, Rekreasi dan Olah Raga' 'Maret']\n",
            " ['Pendidikan, Rekreasi dan Olah Raga' 'April']\n",
            " ['Pendidikan, Rekreasi dan Olah Raga' 'Mei']\n",
            " ['Pendidikan, Rekreasi dan Olah Raga' 'Juni']\n",
            " ['Transportasi, Komunikasi dan Jasa Keuangan' 'Januari']\n",
            " ['Transportasi, Komunikasi dan Jasa Keuangan' 'Februari']\n",
            " ['Transportasi, Komunikasi dan Jasa Keuangan' 'Maret']\n",
            " ['Transportasi, Komunikasi dan Jasa Keuangan' 'April']\n",
            " ['Transportasi, Komunikasi dan Jasa Keuangan' 'Mei']\n",
            " ['Transportasi, Komunikasi dan Jasa Keuangan' 'Juni']]\n"
          ],
          "name": "stdout"
        }
      ]
    },
    {
      "cell_type": "code",
      "metadata": {
        "colab": {
          "base_uri": "https://localhost:8080/"
        },
        "id": "9olvnX4wQAxq",
        "outputId": "f6255990-5c6a-4c63-e4a6-627bed62e974"
      },
      "source": [
        "#Encoding Data kategori(class/label)\n",
        "from sklearn.preprocessing import LabelEncoder\n",
        "le = LabelEncoder()\n",
        "y = le.fit_transform(Y)\n",
        "\n",
        "print(Y)"
      ],
      "execution_count": 17,
      "outputs": [
        {
          "output_type": "stream",
          "text": [
            "[ 0.48  0.17  0.18  0.13   nan  0.38  1.6  -0.62  0.1   0.35   nan  0.93\n",
            "  0.74  0.18  0.4   0.7    nan  0.15  0.11  0.2   0.1   0.06   nan  0.5\n",
            "  0.31  1.74  0.28 -0.89   nan  0.55  0.59 -0.03  0.04  0.04   nan  0.08\n",
            "  0.01  0.    0.02  0.     nan  0.03 -0.04  0.13  0.2   0.17   nan  0.03]\n"
          ],
          "name": "stdout"
        }
      ]
    },
    {
      "cell_type": "code",
      "metadata": {
        "colab": {
          "base_uri": "https://localhost:8080/"
        },
        "id": "tCVuHVDMQzPc",
        "outputId": "8e937c9c-aa27-4316-80af-9ce3ef317394"
      },
      "source": [
        "#Membagi dataset ke dalam training set dan test set\n",
        "from sklearn.model_selection import train_test_split\n",
        "X_train, X_test, Y_train, Y_test = train_test_split(X, Y, test_size = 0.2, random_state =1)\n",
        "print(X_train)\n",
        "print(X_test)\n",
        "print(Y_train)\n",
        "print(Y_test)"
      ],
      "execution_count": 18,
      "outputs": [
        {
          "output_type": "stream",
          "text": [
            "[['Sandang' 'Mei']\n",
            " ['Transportasi, Komunikasi dan Jasa Keuangan' 'Juni']\n",
            " ['Perumahan, Air, Listrik, Gas, dan Bahan bakar' 'April']\n",
            " ['Kesehatan' 'Mei']\n",
            " ['Perumahan, Air, Listrik, Gas, dan Bahan bakar' 'Februari']\n",
            " ['Pendidikan, Rekreasi dan Olah Raga' 'Mei']\n",
            " ['Kesehatan' 'Juni']\n",
            " ['Sandang' 'Januari']\n",
            " ['Perumahan, Air, Listrik, Gas, dan Bahan bakar' 'Mei']\n",
            " ['Makanan jadi, Minuman, Rokok dan tembakau' 'Februari']\n",
            " ['Pendidikan, Rekreasi dan Olah Raga' 'April']\n",
            " ['Makanan jadi, Minuman, Rokok dan tembakau' 'Juni']\n",
            " ['Transportasi, Komunikasi dan Jasa Keuangan' 'Mei']\n",
            " ['Umum' 'Mei']\n",
            " ['Sandang' 'Juni']\n",
            " ['Makanan jadi, Minuman, Rokok dan tembakau' 'Maret']\n",
            " ['Bukan Makanan' 'Mei']\n",
            " ['Transportasi, Komunikasi dan Jasa Keuangan' 'Januari']\n",
            " ['Kesehatan' 'Maret']\n",
            " ['Perumahan, Air, Listrik, Gas, dan Bahan bakar' 'Januari']\n",
            " ['Pendidikan, Rekreasi dan Olah Raga' 'Juni']\n",
            " ['Kesehatan' 'Januari']\n",
            " ['Perumahan, Air, Listrik, Gas, dan Bahan bakar' 'Maret']\n",
            " ['Sandang' 'Februari']\n",
            " ['Bukan Makanan' 'Januari']\n",
            " ['Bukan Makanan' 'Februari']\n",
            " ['Transportasi, Komunikasi dan Jasa Keuangan' 'April']\n",
            " ['Umum' 'Februari']\n",
            " ['Makanan jadi, Minuman, Rokok dan tembakau' 'Mei']\n",
            " ['Umum' 'Januari']\n",
            " ['Makanan jadi, Minuman, Rokok dan tembakau' 'April']\n",
            " ['Umum' 'Juni']\n",
            " ['Bukan Makanan' 'Juni']\n",
            " ['Bukan Makanan' 'April']\n",
            " ['Bukan Makanan' 'Maret']\n",
            " ['Makanan jadi, Minuman, Rokok dan tembakau' 'Januari']\n",
            " ['Transportasi, Komunikasi dan Jasa Keuangan' 'Februari']\n",
            " ['Pendidikan, Rekreasi dan Olah Raga' 'Februari']]\n",
            "[['Kesehatan' 'April']\n",
            " ['Perumahan, Air, Listrik, Gas, dan Bahan bakar' 'Juni']\n",
            " ['Pendidikan, Rekreasi dan Olah Raga' 'Maret']\n",
            " ['Pendidikan, Rekreasi dan Olah Raga' 'Januari']\n",
            " ['Umum' 'Maret']\n",
            " ['Umum' 'April']\n",
            " ['Kesehatan' 'Februari']\n",
            " ['Sandang' 'Maret']\n",
            " ['Transportasi, Komunikasi dan Jasa Keuangan' 'Maret']\n",
            " ['Sandang' 'April']]\n",
            "[  nan  0.03  0.06   nan  0.2    nan  0.08  0.31   nan  0.18  0.    0.15\n",
            "   nan   nan  0.55  0.4    nan -0.04  0.04  0.11  0.03  0.59  0.1   1.74\n",
            "  1.6  -0.62  0.17  0.17   nan  0.48  0.7   0.38  0.93  0.35  0.1   0.74\n",
            "  0.13  0.  ]\n",
            "[ 0.04  0.5   0.02  0.01  0.18  0.13 -0.03  0.28  0.2  -0.89]\n"
          ],
          "name": "stdout"
        }
      ]
    },
    {
      "cell_type": "code",
      "metadata": {
        "id": "-h8tutI2RBzX"
      },
      "source": [
        "#Feature Scaling \n",
        "from sklearn.preprocessing import StandardScaler\n",
        "sc = StandardScaler()\n",
        "X_train[:, 3:] = sc.fit_transform(X_train[:, 3:])\n",
        "X_test[:, 3:] = sc.trasnform(X_test[:, 3:])"
      ],
      "execution_count": null,
      "outputs": []
    },
    {
      "cell_type": "code",
      "metadata": {
        "colab": {
          "base_uri": "https://localhost:8080/"
        },
        "id": "do3H-O5sROSf",
        "outputId": "bba52eff-a6ff-4004-e7b2-8bd522bccd47"
      },
      "source": [
        "print(X_train)\n",
        "print(X_test)"
      ],
      "execution_count": 20,
      "outputs": [
        {
          "output_type": "stream",
          "text": [
            "[['Sandang' 'Mei']\n",
            " ['Transportasi, Komunikasi dan Jasa Keuangan' 'Juni']\n",
            " ['Perumahan, Air, Listrik, Gas, dan Bahan bakar' 'April']\n",
            " ['Kesehatan' 'Mei']\n",
            " ['Perumahan, Air, Listrik, Gas, dan Bahan bakar' 'Februari']\n",
            " ['Pendidikan, Rekreasi dan Olah Raga' 'Mei']\n",
            " ['Kesehatan' 'Juni']\n",
            " ['Sandang' 'Januari']\n",
            " ['Perumahan, Air, Listrik, Gas, dan Bahan bakar' 'Mei']\n",
            " ['Makanan jadi, Minuman, Rokok dan tembakau' 'Februari']\n",
            " ['Pendidikan, Rekreasi dan Olah Raga' 'April']\n",
            " ['Makanan jadi, Minuman, Rokok dan tembakau' 'Juni']\n",
            " ['Transportasi, Komunikasi dan Jasa Keuangan' 'Mei']\n",
            " ['Umum' 'Mei']\n",
            " ['Sandang' 'Juni']\n",
            " ['Makanan jadi, Minuman, Rokok dan tembakau' 'Maret']\n",
            " ['Bukan Makanan' 'Mei']\n",
            " ['Transportasi, Komunikasi dan Jasa Keuangan' 'Januari']\n",
            " ['Kesehatan' 'Maret']\n",
            " ['Perumahan, Air, Listrik, Gas, dan Bahan bakar' 'Januari']\n",
            " ['Pendidikan, Rekreasi dan Olah Raga' 'Juni']\n",
            " ['Kesehatan' 'Januari']\n",
            " ['Perumahan, Air, Listrik, Gas, dan Bahan bakar' 'Maret']\n",
            " ['Sandang' 'Februari']\n",
            " ['Bukan Makanan' 'Januari']\n",
            " ['Bukan Makanan' 'Februari']\n",
            " ['Transportasi, Komunikasi dan Jasa Keuangan' 'April']\n",
            " ['Umum' 'Februari']\n",
            " ['Makanan jadi, Minuman, Rokok dan tembakau' 'Mei']\n",
            " ['Umum' 'Januari']\n",
            " ['Makanan jadi, Minuman, Rokok dan tembakau' 'April']\n",
            " ['Umum' 'Juni']\n",
            " ['Bukan Makanan' 'Juni']\n",
            " ['Bukan Makanan' 'April']\n",
            " ['Bukan Makanan' 'Maret']\n",
            " ['Makanan jadi, Minuman, Rokok dan tembakau' 'Januari']\n",
            " ['Transportasi, Komunikasi dan Jasa Keuangan' 'Februari']\n",
            " ['Pendidikan, Rekreasi dan Olah Raga' 'Februari']]\n",
            "[['Kesehatan' 'April']\n",
            " ['Perumahan, Air, Listrik, Gas, dan Bahan bakar' 'Juni']\n",
            " ['Pendidikan, Rekreasi dan Olah Raga' 'Maret']\n",
            " ['Pendidikan, Rekreasi dan Olah Raga' 'Januari']\n",
            " ['Umum' 'Maret']\n",
            " ['Umum' 'April']\n",
            " ['Kesehatan' 'Februari']\n",
            " ['Sandang' 'Maret']\n",
            " ['Transportasi, Komunikasi dan Jasa Keuangan' 'Maret']\n",
            " ['Sandang' 'April']]\n"
          ],
          "name": "stdout"
        }
      ]
    }
  ]
}